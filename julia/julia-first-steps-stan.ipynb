{
 "cells": [
  {
   "cell_type": "markdown",
   "metadata": {},
   "source": [
    "Installation is simple:\n",
    "\n",
    "```\n",
    "Pkg.add(\"Stan\")\n",
    "```\n",
    "\n",
    "You need to install CmdStan first though. Get it from [here](http://mc-stan.org/users/interfaces/cmdstan). You also need to set the `CMDSTAN_HOME` environment variable, which should point to the folder in which you unpacked `CmdStan`.\n",
    "\n",
    "This notebook assumes that you have created a `CmdStanDir` variable (mostly likely by setting it in your `~/.juliarc.jl` file) and that it points to the location in which you unpacked CmdStan."
   ]
  },
  {
   "cell_type": "code",
   "execution_count": 1,
   "metadata": {},
   "outputs": [
    {
     "name": "stderr",
     "output_type": "stream",
     "text": [
      "\u001b[1m\u001b[36mINFO: \u001b[39m\u001b[22m\u001b[36mRecompiling stale cache file /home/colliera/.julia/lib/v0.6/CodecZlib.ji for module CodecZlib.\n",
      "\u001b[39m\u001b[1m\u001b[36mINFO: \u001b[39m\u001b[22m\u001b[36mRecompiling stale cache file /home/colliera/.julia/lib/v0.6/Gadfly.ji for module Gadfly.\n",
      "\u001b[39m\u001b[1m\u001b[36mINFO: \u001b[39m\u001b[22m\u001b[36mRecompiling stale cache file /home/colliera/.julia/lib/v0.6/LightGraphs.ji for module LightGraphs.\n",
      "\u001b[39m"
     ]
    }
   ],
   "source": [
    "using Stan\n",
    "\n",
    "# Use the describe function from Mamba.\n",
    "#\n",
    "using Mamba"
   ]
  },
  {
   "cell_type": "markdown",
   "metadata": {},
   "source": [
    "Check that environment variable is set."
   ]
  },
  {
   "cell_type": "code",
   "execution_count": 2,
   "metadata": {},
   "outputs": [
    {
     "data": {
      "text/plain": [
       "\"/opt/cmdstan-2.17.1/\""
      ]
     },
     "execution_count": 2,
     "metadata": {},
     "output_type": "execute_result"
    }
   ],
   "source": [
    "ENV[\"CMDSTAN_HOME\"]"
   ]
  },
  {
   "cell_type": "markdown",
   "metadata": {},
   "source": [
    "## Load Data"
   ]
  },
  {
   "cell_type": "code",
   "execution_count": 3,
   "metadata": {},
   "outputs": [
    {
     "name": "stderr",
     "output_type": "stream",
     "text": [
      "\u001b[1m\u001b[36mINFO: \u001b[39m\u001b[22m\u001b[36mRecompiling stale cache file /home/colliera/.julia/lib/v0.6/RData.ji for module RData.\n",
      "\u001b[39mWARNING: Method definition unix2zdt(Real) in module TimeZones at /home/colliera/.julia/v0.6/TimeZones/src/conversions.jl:122 overwritten in module RData at /home/colliera/.julia/v0.6/RData/src/convert.jl:201.\n"
     ]
    }
   ],
   "source": [
    "using RData"
   ]
  },
  {
   "cell_type": "code",
   "execution_count": 4,
   "metadata": {},
   "outputs": [
    {
     "data": {
      "text/plain": [
       "\"/home/colliera/proj/Z-317-talk-first-steps-stan/julia\""
      ]
     },
     "execution_count": 4,
     "metadata": {},
     "output_type": "execute_result"
    },
    {
     "name": "stderr",
     "output_type": "stream",
     "text": [
      "WARNING: Method definition unix2zdt(Real) in module TimeZones at /home/colliera/.julia/v0.6/TimeZones/src/conversions.jl:122 overwritten in module RData at /home/colliera/.julia/v0.6/RData/src/convert.jl:201.\n"
     ]
    }
   ],
   "source": [
    "pwd()"
   ]
  },
  {
   "cell_type": "code",
   "execution_count": 9,
   "metadata": {},
   "outputs": [],
   "source": [
    "slots = load(\"/home/colliera/proj/Z-317-talk-first-steps-stan/maud-sessions.rda\", convert=true)\n",
    "slots = slots[\"sessions_stats\"];"
   ]
  },
  {
   "cell_type": "code",
   "execution_count": 10,
   "metadata": {},
   "outputs": [
    {
     "data": {
      "text/plain": [
       "100"
      ]
     },
     "execution_count": 10,
     "metadata": {},
     "output_type": "execute_result"
    }
   ],
   "source": [
    "size(slots, 1)"
   ]
  },
  {
   "cell_type": "code",
   "execution_count": 11,
   "metadata": {},
   "outputs": [
    {
     "data": {
      "text/plain": [
       "7-element Array{Symbol,1}:\n",
       " :session \n",
       " :spins   \n",
       " :hits    \n",
       " :wager   \n",
       " :payout  \n",
       " :hit_rate\n",
       " :rtp     "
      ]
     },
     "execution_count": 11,
     "metadata": {},
     "output_type": "execute_result"
    }
   ],
   "source": [
    "names(slots)"
   ]
  },
  {
   "cell_type": "code",
   "execution_count": 12,
   "metadata": {},
   "outputs": [
    {
     "data": {
      "text/html": [
       "<table class=\"data-frame\"><thead><tr><th></th><th>session</th><th>spins</th><th>hits</th><th>wager</th><th>payout</th><th>hit_rate</th><th>rtp</th></tr></thead><tbody><tr><th>1</th><td>1</td><td>7</td><td>2</td><td>10</td><td>3.0</td><td>0.285714</td><td>0.3</td></tr><tr><th>2</th><td>2</td><td>19</td><td>7</td><td>30</td><td>29.0</td><td>0.368421</td><td>0.966667</td></tr><tr><th>3</th><td>3</td><td>19</td><td>3</td><td>22</td><td>3.0</td><td>0.157895</td><td>0.136364</td></tr><tr><th>4</th><td>4</td><td>26</td><td>7</td><td>30</td><td>13.0</td><td>0.269231</td><td>0.433333</td></tr><tr><th>5</th><td>5</td><td>23</td><td>8</td><td>31</td><td>35.0</td><td>0.347826</td><td>1.12903</td></tr><tr><th>6</th><td>6</td><td>20</td><td>8</td><td>26</td><td>12.0</td><td>0.4</td><td>0.461538</td></tr></tbody></table>"
      ],
      "text/plain": [
       "6×7 DataFrames.DataFrame\n",
       "│ Row │ session │ spins │ hits │ wager │ payout │ hit_rate │ rtp      │\n",
       "├─────┼─────────┼───────┼──────┼───────┼────────┼──────────┼──────────┤\n",
       "│ 1   │ 1       │ 7     │ 2    │ 10    │ 3.0    │ 0.285714 │ 0.3      │\n",
       "│ 2   │ 2       │ 19    │ 7    │ 30    │ 29.0   │ 0.368421 │ 0.966667 │\n",
       "│ 3   │ 3       │ 19    │ 3    │ 22    │ 3.0    │ 0.157895 │ 0.136364 │\n",
       "│ 4   │ 4       │ 26    │ 7    │ 30    │ 13.0   │ 0.269231 │ 0.433333 │\n",
       "│ 5   │ 5       │ 23    │ 8    │ 31    │ 35.0   │ 0.347826 │ 1.12903  │\n",
       "│ 6   │ 6       │ 20    │ 8    │ 26    │ 12.0   │ 0.4      │ 0.461538 │"
      ]
     },
     "execution_count": 12,
     "metadata": {},
     "output_type": "execute_result"
    }
   ],
   "source": [
    "slots[1:6,:]"
   ]
  },
  {
   "cell_type": "markdown",
   "metadata": {},
   "source": [
    "Define a model."
   ]
  },
  {
   "cell_type": "code",
   "execution_count": 13,
   "metadata": {},
   "outputs": [],
   "source": [
    "const binomial_model = \"\n",
    "data {\n",
    "  int<lower=0> N;\n",
    "  int hits[N];\n",
    "  int spins[N];\n",
    "}\n",
    "parameters {\n",
    "  real<lower=0,upper=1> theta;\n",
    "}\n",
    "model {\n",
    "  hits ~ binomial(spins, theta);       // Likelihood\n",
    "  theta ~ beta(2, 2);                  // Prior\n",
    "}\n",
    "\";"
   ]
  },
  {
   "cell_type": "markdown",
   "metadata": {},
   "source": [
    "Create a `Stanmodel` object. This specifies the basic attributes for the model."
   ]
  },
  {
   "cell_type": "code",
   "execution_count": 24,
   "metadata": {},
   "outputs": [
    {
     "name": "stdout",
     "output_type": "stream",
     "text": [
      "\n",
      "File /home/colliera/proj/Z-317-talk-first-steps-stan/julia/tmp/binomial.stan will be updated.\n",
      "\n"
     ]
    }
   ],
   "source": [
    "stanmodel = Stanmodel(model=binomial_model, nchains=4);"
   ]
  },
  {
   "cell_type": "markdown",
   "metadata": {},
   "source": [
    "That will actually take the model string and write it to a temporary external file with `.stan` extension. The `name` argument can be used to specify the name of this file."
   ]
  },
  {
   "cell_type": "markdown",
   "metadata": {},
   "source": [
    "Take a look at the model object."
   ]
  },
  {
   "cell_type": "code",
   "execution_count": 16,
   "metadata": {},
   "outputs": [
    {
     "name": "stdout",
     "output_type": "stream",
     "text": [
      "  name =                    \"bernoulli\"\n",
      "  nchains =                 4\n",
      "  num_samples =             1000\n",
      "  num_warmup =                   1000\n",
      "  thin =                    1\n",
      "  useMamba =                true\n",
      "  mambaThinning =           1\n",
      "  monitors =                String[]\n",
      "  model_file =              \"bernoulli.stan\"\n",
      "  data_file =               \"\"\n",
      "  output =                  Output()\n",
      "    file =                    \"\"\n",
      "    diagnostics_file =        \"\"\n",
      "    refresh =                 100\n",
      "  method =                  Sample()\n",
      "    num_samples =             1000\n",
      "    num_warmup =              1000\n",
      "    save_warmup =             false\n",
      "    thin =                    1\n",
      "    algorithm =               HMC()\n",
      "      engine =                  NUTS()\n",
      "        max_depth =               10\n",
      "      metric =                  "
     ]
    },
    {
     "data": {
      "text/plain": []
     },
     "metadata": {},
     "output_type": "display_data"
    },
    {
     "name": "stdout",
     "output_type": "stream",
     "text": [
      "Stan.diag_e\n",
      "      stepsize =                1.0\n",
      "      stepsize_jitter =         1.0\n",
      "    adapt =                   Adapt()\n",
      "      gamma =                   0.05\n",
      "      delta =                   0.8\n",
      "      kappa =                   0.75\n",
      "      t0 =                      10.0\n",
      "      init_buffer =             75\n",
      "      term_buffer =             50\n",
      "      window =                  25\n"
     ]
    }
   ],
   "source": [
    "stanmodel |> display"
   ]
  },
  {
   "cell_type": "markdown",
   "metadata": {},
   "source": [
    "Interrogate attributes of the model."
   ]
  },
  {
   "cell_type": "code",
   "execution_count": 17,
   "metadata": {},
   "outputs": [
    {
     "data": {
      "text/plain": []
     },
     "execution_count": 17,
     "metadata": {},
     "output_type": "execute_result"
    },
    {
     "name": "stdout",
     "output_type": "stream",
     "text": [
      "  method =                  Sample()\n",
      "    num_samples =             1000\n",
      "    num_warmup =              1000\n",
      "    save_warmup =             false\n",
      "    thin =                    1\n",
      "    algorithm =               HMC()\n",
      "      engine =                  NUTS()\n",
      "        max_depth =               10\n",
      "      metric =                  Stan.diag_e\n",
      "      stepsize =                1.0\n",
      "      stepsize_jitter =         1.0\n",
      "    adapt =                   Adapt()\n",
      "      gamma =                   0.05\n",
      "      delta =                   0.8\n",
      "      kappa =                   0.75\n",
      "      t0 =                      10.0\n",
      "      init_buffer =             75\n",
      "      term_buffer =             50\n",
      "      window =                  25\n"
     ]
    }
   ],
   "source": [
    "stanmodel.method"
   ]
  },
  {
   "cell_type": "markdown",
   "metadata": {},
   "source": [
    "Update characteristics of model. The `Stanmodel` object can be tailored either via the constructor or after the fact."
   ]
  },
  {
   "cell_type": "code",
   "execution_count": 18,
   "metadata": {},
   "outputs": [
    {
     "data": {
      "text/plain": [
       "0.85"
      ]
     },
     "execution_count": 18,
     "metadata": {},
     "output_type": "execute_result"
    }
   ],
   "source": [
    "stanmodel.method.adapt.delta = 0.85"
   ]
  },
  {
   "cell_type": "markdown",
   "metadata": {},
   "source": [
    "Set up the observed input data."
   ]
  },
  {
   "cell_type": "code",
   "execution_count": 19,
   "metadata": {},
   "outputs": [
    {
     "data": {
      "text/plain": [
       "Dict{String,Any} with 3 entries:\n",
       "  \"hits\"  => Int32[2, 7, 3, 7, 8, 8, 5, 4, 4, 8  …  8, 5, 2, 2, 10, 8, 3, 5, 4,…\n",
       "  \"N\"     => 100\n",
       "  \"spins\" => Int32[7, 19, 19, 26, 23, 20, 22, 22, 18, 26  …  19, 16, 14, 18, 21…"
      ]
     },
     "execution_count": 19,
     "metadata": {},
     "output_type": "execute_result"
    }
   ],
   "source": [
    "const binomial_data = Dict(\"N\"     => size(slots, 1),\n",
    "                           \"hits\"  => slots[:hits],\n",
    "                           \"spins\" => slots[:spins])"
   ]
  },
  {
   "cell_type": "markdown",
   "metadata": {},
   "source": [
    "Build the code and run the simulation. Uses `make` to recompile code, but only if necessary. Multiple chains are run in parallel (if possible)."
   ]
  },
  {
   "cell_type": "code",
   "execution_count": 21,
   "metadata": {},
   "outputs": [
    {
     "name": "stdout",
     "output_type": "stream",
     "text": [
      "\n",
      "\n",
      "--- Translating Stan model to C++ code ---\n",
      "bin/stanc  /home/colliera/proj/Z-317-talk-first-steps-stan/julia/tmp/bernoulli.stan --o=/home/colliera/proj/Z-317-talk-first-steps-stan/julia/tmp/bernoulli.hpp\n",
      "Model name=bernoulli_model\n",
      "Input file=/home/colliera/proj/Z-317-talk-first-steps-stan/julia/tmp/bernoulli.stan\n",
      "Output file=/home/colliera/proj/Z-317-talk-first-steps-stan/julia/tmp/bernoulli.hpp\n",
      "\n",
      "--- Linking C++ model ---\n",
      "g++ -Wall -I . -isystem stan/lib/stan_math/lib/eigen_3.3.3 -isystem stan/lib/stan_math/lib/boost_1.64.0 -isystem stan/lib/stan_math/lib/cvodes_2.9.0/include -std=c++1y -DBOOST_RESULT_OF_USE_TR1 -DBOOST_NO_DECLTYPE -DBOOST_DISABLE_ASSERTS -DBOOST_PHOENIX_NO_VARIADIC_EXPRESSION -Wno-unused-function -Wno-uninitialized -I src -isystem stan/src -isystem stan/lib/stan_math/ -DFUSION_MAX_VECTOR_SIZE=12 -Wno-unused-local-typedefs -DEIGEN_NO_DEBUG -DNO_FPRINTF_OUTPUT -pipe    -O3 -o /home/colliera/proj/Z-317-talk-first-steps-stan/julia/tmp/bernoulli src/cmdstan/main.cpp -include /home/colliera/proj/Z-317-talk-first-steps-stan/julia/tmp/bernoulli.hpp stan/lib/stan_math/lib/cvodes_2.9.0/lib/libsundials_nvecserial.a stan/lib/stan_math/lib/cvodes_2.9.0/lib/libsundials_cvodes.a\n",
      "\n",
      "Length of data array is not equal to nchains,\n",
      "all chains will use the first data dictionary.\n",
      "\n",
      "Calling /opt/cmdstan-2.17.1/bin/stansummary to infer across chains.\n",
      "\n",
      "Inference for Stan model: bernoulli_model\n",
      "4 chains: each with iter=(1000,1000,1000,1000); warmup=(0,0,0,0); thin=(1,1,1,1); 4000 iterations saved.\n",
      "\n",
      "Warmup took (0.034, 0.033, 0.034, 0.037) seconds, 0.14 seconds total\n",
      "Sampling took (0.053, 0.055, 0.050, 0.047) seconds, 0.20 seconds total\n",
      "\n",
      "                 Mean     MCSE  StdDev     5%    50%    95%  N_Eff  N_Eff/s    R_hat\n",
      "lp__            -1229  2.1e-02    0.73  -1230  -1229  -1228   1179     5758  1.0e+00\n",
      "accept_stat__    0.94  1.3e-03   0.083   0.77   0.98    1.0   4000    19536  1.0e+00\n",
      "stepsize__       0.85  8.7e-02    0.12   0.69   0.89    1.0    2.0      9.8  1.0e+14\n",
      "treedepth__       1.5  5.9e-02    0.64    1.0    1.0    3.0    118      578  1.0e+00\n",
      "n_leapfrog__      3.1  1.0e-01     1.8    1.0    3.0    7.0    311     1519  1.0e+00\n",
      "divergent__      0.00  0.0e+00    0.00   0.00   0.00   0.00   4000    19536     -nan\n",
      "energy__         1229  2.7e-02     1.0   1228   1229   1232   1453     7098  1.0e+00\n",
      "theta            0.31  2.8e-04   0.010   0.30   0.31   0.33   1431     6990  1.0e+00\n",
      "\n",
      "Samples were drawn using hmc with nuts.\n",
      "For each parameter, N_Eff is a crude measure of effective sample size,\n",
      "and R_hat is the potential scale reduction factor on split chains (at \n",
      "convergence, R_hat=1).\n",
      "\n"
     ]
    }
   ],
   "source": [
    "rc, simulated = stan(stanmodel, [binomial_data]);"
   ]
  },
  {
   "cell_type": "code",
   "execution_count": null,
   "metadata": {},
   "outputs": [],
   "source": [
    "stanmodel.command"
   ]
  },
  {
   "cell_type": "markdown",
   "metadata": {},
   "source": [
    "Check for success and examine results. The `simulated` object is of type `Mamba.Chains`."
   ]
  },
  {
   "cell_type": "code",
   "execution_count": 22,
   "metadata": {},
   "outputs": [
    {
     "name": "stdout",
     "output_type": "stream",
     "text": [
      "Iterations = 1:1000\n",
      "Thinning interval = 1\n",
      "Chains = 1,2,3,4\n",
      "Samples per chain = 1000\n",
      "\n",
      "Empirical Posterior Estimates:\n",
      "                   Mean          SD        Naive SE       MCSE      ESS\n",
      "         lp__ -1228.9554500 0.725633574 0.01147327420 0.0193144041 1000\n",
      "        theta     0.3127153 0.010491966 0.00016589255 0.0002524322 1000\n",
      "accept_stat__     0.9442633 0.083037968 0.00131294555 0.0020614201 1000\n",
      "\n",
      "Quantiles:\n",
      "                   2.5%           25.0%         50.0%          75.0%          97.5%    \n",
      "         lp__ -1231.02100000 -1229.12000000 -1228.6800000 -1228.50000000 -1228.45000000\n",
      "        theta     0.29233515     0.30573575     0.3130270     0.31995125     0.33264253\n",
      "accept_stat__     0.70115673     0.92222900     0.9786485     0.99946275     1.00000000\n",
      "\n"
     ]
    }
   ],
   "source": [
    "if rc == 0\n",
    "  sim = simulated[1:1000, [\"lp__\", \"theta\", \"accept_stat__\"], :]\n",
    "  describe(sim)\n",
    "end"
   ]
  },
  {
   "cell_type": "code",
   "execution_count": null,
   "metadata": {},
   "outputs": [],
   "source": [
    "simulated.stan_summary()"
   ]
  },
  {
   "cell_type": "code",
   "execution_count": null,
   "metadata": {},
   "outputs": [],
   "source": []
  },
  {
   "cell_type": "code",
   "execution_count": null,
   "metadata": {},
   "outputs": [],
   "source": []
  },
  {
   "cell_type": "code",
   "execution_count": null,
   "metadata": {},
   "outputs": [],
   "source": []
  },
  {
   "cell_type": "code",
   "execution_count": null,
   "metadata": {},
   "outputs": [],
   "source": [
    "println(\"Brooks, Gelman and Rubin Convergence Diagnostic\")\n",
    "try\n",
    "  gelmandiag(sim, mpsrf=true, transform=true) |> display\n",
    "catch e\n",
    "  #println(e)\n",
    "  gelmandiag(sim, mpsrf=false, transform=true) |> display\n",
    "end"
   ]
  },
  {
   "cell_type": "code",
   "execution_count": null,
   "metadata": {},
   "outputs": [],
   "source": [
    "println(\"Geweke Convergence Diagnostic\")\n",
    "gewekediag(sim) |> display"
   ]
  },
  {
   "cell_type": "code",
   "execution_count": null,
   "metadata": {},
   "outputs": [],
   "source": [
    "println(\"Highest Posterior Density Intervals\")\n",
    "hpd(sim) |> display"
   ]
  },
  {
   "cell_type": "code",
   "execution_count": null,
   "metadata": {},
   "outputs": [],
   "source": [
    "println(\"Cross-Correlations\")\n",
    "cor(sim) |> display"
   ]
  },
  {
   "cell_type": "code",
   "execution_count": null,
   "metadata": {},
   "outputs": [],
   "source": [
    "println(\"Lag-Autocorrelations\")\n",
    "autocor(sim) |> display"
   ]
  },
  {
   "cell_type": "code",
   "execution_count": null,
   "metadata": {},
   "outputs": [],
   "source": [
    "p = plot(sim, [:trace, :mean, :density, :autocor], legend=true);\n",
    "draw(p, ncol=4, filename=\"summaryplot\", fmt=:svg)\n",
    "draw(p, ncol=4, filename=\"summaryplot\", fmt=:pdf)"
   ]
  },
  {
   "cell_type": "code",
   "execution_count": null,
   "metadata": {},
   "outputs": [],
   "source": []
  },
  {
   "cell_type": "code",
   "execution_count": null,
   "metadata": {},
   "outputs": [],
   "source": []
  }
 ],
 "metadata": {
  "kernelspec": {
   "display_name": "Julia 0.6.4",
   "language": "julia",
   "name": "julia-0.6"
  },
  "language_info": {
   "file_extension": ".jl",
   "mimetype": "application/julia",
   "name": "julia",
   "version": "0.6.4"
  }
 },
 "nbformat": 4,
 "nbformat_minor": 2
}
