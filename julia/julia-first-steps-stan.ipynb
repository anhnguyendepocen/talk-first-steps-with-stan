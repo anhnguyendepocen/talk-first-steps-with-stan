{
 "cells": [
  {
   "cell_type": "markdown",
   "metadata": {},
   "source": [
    "Installation is simple:\n",
    "\n",
    "```\n",
    "Pkg.add(\"Stan\")\n",
    "```\n",
    "\n",
    "You need to install CmdStan first though. Get it from [here](http://mc-stan.org/users/interfaces/cmdstan). You also need to set the `CMDSTAN_HOME` environment variable, which should point to the folder in which you unpacked `CmdStan`.\n",
    "\n",
    "This notebook assumes that you have created a `CmdStanDir` variable (mostly likely by setting it in your `~/.juliarc.jl` file) and that it points to the location in which you unpacked CmdStan."
   ]
  },
  {
   "cell_type": "code",
   "execution_count": 1,
   "metadata": {},
   "outputs": [],
   "source": [
    "using Stan\n",
    "\n",
    "# Use the describe function from Mamba.\n",
    "#\n",
    "using Mamba"
   ]
  },
  {
   "cell_type": "markdown",
   "metadata": {},
   "source": [
    "Define a model."
   ]
  },
  {
   "cell_type": "code",
   "execution_count": 3,
   "metadata": {},
   "outputs": [],
   "source": [
    "const bernoullistanmodel = \"\n",
    "data {\n",
    "    int<lower=0> N;\n",
    "    int<lower=0,upper=1> y[N];\n",
    "} \n",
    "parameters {\n",
    "    real<lower=0,upper=1> theta;\n",
    "} \n",
    "model {\n",
    "    theta ~ beta(1,1);\n",
    "    y ~ bernoulli(theta);\n",
    "}\n",
    "\";"
   ]
  },
  {
   "cell_type": "markdown",
   "metadata": {},
   "source": [
    "Create a `Stanmodel` object. This specifies the basic attributes for the model."
   ]
  },
  {
   "cell_type": "code",
   "execution_count": 4,
   "metadata": {},
   "outputs": [],
   "source": [
    "stanmodel = Stanmodel(\n",
    "    name=\"bernoulli\",\n",
    "    model=bernoullistanmodel,\n",
    "    nchains=4\n",
    "    );"
   ]
  },
  {
   "cell_type": "markdown",
   "metadata": {},
   "source": [
    "Take a look at the model object."
   ]
  },
  {
   "cell_type": "code",
   "execution_count": 5,
   "metadata": {},
   "outputs": [
    {
     "name": "stdout",
     "output_type": "stream",
     "text": [
      "  name =                    \"bernoulli\"\n",
      "  nchains =                 4\n",
      "  num_samples =             1000\n",
      "  num_warmup =                   1000\n",
      "  thin =                    1\n",
      "  useMamba =                true\n",
      "  mambaThinning =           1\n",
      "  monitors =                String[]\n",
      "  model_file =              \"bernoulli.stan\"\n",
      "  data_file =               \"\"\n",
      "  output =                  Output()\n",
      "    file =                    \"\"\n",
      "    diagnostics_file =        \"\"\n",
      "    refresh =                 100\n",
      "  method =                  Sample()\n",
      "    num_samples =             1000\n",
      "    num_warmup =              1000\n",
      "    save_warmup =             false\n",
      "    thin =                    1\n",
      "    algorithm =               HMC()\n",
      "      engine =                  NUTS()\n",
      "        max_depth =               10\n",
      "      metric =                  Stan.diag_e\n",
      "      stepsize =                1"
     ]
    },
    {
     "data": {
      "text/plain": []
     },
     "metadata": {},
     "output_type": "display_data"
    },
    {
     "name": "stdout",
     "output_type": "stream",
     "text": [
      ".0\n",
      "      stepsize_jitter =         1.0\n",
      "    adapt =                   Adapt()\n",
      "      gamma =                   0.05\n",
      "      delta =                   0.8\n",
      "      kappa =                   0.75\n",
      "      t0 =                      10.0\n",
      "      init_buffer =             75\n",
      "      term_buffer =             50\n",
      "      window =                  25\n"
     ]
    }
   ],
   "source": [
    "stanmodel |> display"
   ]
  },
  {
   "cell_type": "markdown",
   "metadata": {},
   "source": [
    "Interrogate attributes of the model."
   ]
  },
  {
   "cell_type": "code",
   "execution_count": 6,
   "metadata": {},
   "outputs": [
    {
     "data": {
      "text/plain": []
     },
     "execution_count": 6,
     "metadata": {},
     "output_type": "execute_result"
    },
    {
     "name": "stdout",
     "output_type": "stream",
     "text": [
      "  method =                  Sample()\n",
      "    num_samples =             1000\n",
      "    num_warmup =              1000\n",
      "    save_warmup =             false\n",
      "    thin =                    1\n",
      "    algorithm =               HMC()\n",
      "      engine =                  NUTS()\n",
      "        max_depth =               10\n",
      "      metric =                  Stan.diag_e\n",
      "      stepsize =                1.0\n",
      "      stepsize_jitter =         1.0\n",
      "    adapt =                   Adapt()\n",
      "      gamma =                   0.05\n",
      "      delta =                   0.8\n",
      "      kappa =                   0.75\n",
      "      t0 =                      10.0\n",
      "      init_buffer =             75\n",
      "      term_buffer =             50\n",
      "      window =                  25\n"
     ]
    }
   ],
   "source": [
    "stanmodel.method"
   ]
  },
  {
   "cell_type": "markdown",
   "metadata": {},
   "source": [
    "Update characteristics of model. The `Stanmodel` object can be tailored either via the constructor or after the fact."
   ]
  },
  {
   "cell_type": "code",
   "execution_count": 7,
   "metadata": {},
   "outputs": [
    {
     "data": {
      "text/plain": [
       "0.85"
      ]
     },
     "execution_count": 7,
     "metadata": {},
     "output_type": "execute_result"
    }
   ],
   "source": [
    "stanmodel.method.adapt.delta = 0.85"
   ]
  },
  {
   "cell_type": "markdown",
   "metadata": {},
   "source": [
    "Set up the observed input data."
   ]
  },
  {
   "cell_type": "code",
   "execution_count": 8,
   "metadata": {},
   "outputs": [
    {
     "data": {
      "text/plain": [
       "Dict{String,Any} with 2 entries:\n",
       "  \"N\" => 10\n",
       "  \"y\" => [0, 1, 0, 1, 0, 0, 0, 0, 0, 1]"
      ]
     },
     "execution_count": 8,
     "metadata": {},
     "output_type": "execute_result"
    }
   ],
   "source": [
    "const bernoullidata = Dict(\"N\" => 10, \"y\" => [0, 1, 0, 1, 0, 0, 0, 0, 0, 1])"
   ]
  },
  {
   "cell_type": "markdown",
   "metadata": {},
   "source": [
    "Build the code and run the simulation. Uses `make` to recompile code, but only if necessary. Multiple chains are run in parallel (if possible)."
   ]
  },
  {
   "cell_type": "code",
   "execution_count": 9,
   "metadata": {},
   "outputs": [
    {
     "name": "stdout",
     "output_type": "stream",
     "text": [
      "\n",
      "make: '/home/colliera/proj/Z-317-talk-first-steps-stan/julia/tmp/bernoulli' is up to date.\n",
      "\n",
      "Length of data array is not equal to nchains,\n",
      "all chains will use the first data dictionary.\n",
      "\n",
      "Calling /opt/cmdstan-2.17.1/bin/stansummary to infer across chains.\n",
      "\n",
      "Inference for Stan model: bernoulli_model\n",
      "4 chains: each with iter=(1000,1000,1000,1000); warmup=(0,0,0,0); thin=(1,1,1,1); 4000 iterations saved.\n",
      "\n",
      "Warmup took (0.012, 0.012, 0.010, 0.011) seconds, 0.044 seconds total\n",
      "Sampling took (0.018, 0.025, 0.022, 0.024) seconds, 0.090 seconds total\n",
      "\n",
      "                Mean     MCSE  StdDev    5%   50%   95%  N_Eff  N_Eff/s    R_hat\n",
      "lp__            -8.2  2.1e-02    0.72  -9.6  -7.9  -7.6   1207    13479  1.0e+00\n",
      "accept_stat__   0.94  1.5e-03   0.096  0.73  0.98   1.0   4000    44682  1.0e+00\n",
      "stepsize__      0.87  5.0e-02   0.070  0.77  0.89  0.97    2.0       22  4.2e+13\n",
      "treedepth__      1.4  9.0e-03    0.51   1.0   1.0   2.0   3189    35622  1.0e+00\n",
      "n_leapfrog__     2.8  3.8e-02     1.6   1.0   3.0   7.0   1660    18544  1.0e+00\n",
      "divergent__     0.00  0.0e+00    0.00  0.00  0.00  0.00   4000    44682     -nan\n",
      "energy__         8.6  2.6e-02    0.98   7.7   8.4    11   1430    15971  1.0e+00\n",
      "theta           0.33  3.3e-03    0.13  0.13  0.33  0.56   1516    16939  1.0e+00\n",
      "\n",
      "Samples were drawn using hmc with nuts.\n",
      "For each parameter, N_Eff is a crude measure of effective sample size,\n",
      "and R_hat is the potential scale reduction factor on split chains (at \n",
      "convergence, R_hat=1).\n",
      "\n"
     ]
    }
   ],
   "source": [
    "rc, simulated = stan(stanmodel, [bernoullidata]);"
   ]
  },
  {
   "cell_type": "code",
   "execution_count": 10,
   "metadata": {},
   "outputs": [
    {
     "data": {
      "text/plain": [
       "4-element Array{Base.AbstractCmd,1}:\n",
       " `./bernoulli sample num_samples=1000 num_warmup=1000 save_warmup=0 thin=1 adapt engaged=1 gamma=0.05 delta=0.85 kappa=0.75 t0=10.0 init_buffer=75 term_buffer=50 window=25 algorithm=hmc engine=nuts max_depth=10 metric=diag_e stepsize=1.0 stepsize_jitter=1.0 random seed=-1 id=1 data file=bernoulli_1.data.R output file=bernoulli_samples_1.csv refresh=100`\n",
       " `./bernoulli sample num_samples=1000 num_warmup=1000 save_warmup=0 thin=1 adapt engaged=1 gamma=0.05 delta=0.85 kappa=0.75 t0=10.0 init_buffer=75 term_buffer=50 window=25 algorithm=hmc engine=nuts max_depth=10 metric=diag_e stepsize=1.0 stepsize_jitter=1.0 random seed=-1 id=2 data file=bernoulli_2.data.R output file=bernoulli_samples_2.csv refresh=100`\n",
       " `./bernoulli sample num_samples=1000 num_warmup=1000 save_warmup=0 thin=1 adapt engaged=1 gamma=0.05 delta=0.85 kappa=0.75 t0=10.0 init_buffer=75 term_buffer=50 window=25 algorithm=hmc engine=nuts max_depth=10 metric=diag_e stepsize=1.0 stepsize_jitter=1.0 random seed=-1 id=3 data file=bernoulli_3.data.R output file=bernoulli_samples_3.csv refresh=100`\n",
       " `./bernoulli sample num_samples=1000 num_warmup=1000 save_warmup=0 thin=1 adapt engaged=1 gamma=0.05 delta=0.85 kappa=0.75 t0=10.0 init_buffer=75 term_buffer=50 window=25 algorithm=hmc engine=nuts max_depth=10 metric=diag_e stepsize=1.0 stepsize_jitter=1.0 random seed=-1 id=4 data file=bernoulli_4.data.R output file=bernoulli_samples_4.csv refresh=100`"
      ]
     },
     "execution_count": 10,
     "metadata": {},
     "output_type": "execute_result"
    }
   ],
   "source": [
    "stanmodel.command"
   ]
  },
  {
   "cell_type": "markdown",
   "metadata": {},
   "source": [
    "Check for success and examine results. The `simulated` object is of type `Mamba.Chains`."
   ]
  },
  {
   "cell_type": "code",
   "execution_count": null,
   "metadata": {},
   "outputs": [],
   "source": [
    "if rc == 0\n",
    "  sim = simulated[1:1000, [\"lp__\", \"theta\", \"accept_stat__\"], :]\n",
    "  describe(sim)\n",
    "end"
   ]
  },
  {
   "cell_type": "code",
   "execution_count": 12,
   "metadata": {},
   "outputs": [
    {
     "ename": "LoadError",
     "evalue": "\u001b[91mtype Chains has no field stan_summary\u001b[39m",
     "output_type": "error",
     "traceback": [
      "\u001b[91mtype Chains has no field stan_summary\u001b[39m",
      "",
      "Stacktrace:",
      " [1] \u001b[1minclude_string\u001b[22m\u001b[22m\u001b[1m(\u001b[22m\u001b[22m::String, ::String\u001b[1m)\u001b[22m\u001b[22m at \u001b[1m./loading.jl:522\u001b[22m\u001b[22m"
     ]
    }
   ],
   "source": [
    "simulated.stan_summary()"
   ]
  },
  {
   "cell_type": "code",
   "execution_count": null,
   "metadata": {},
   "outputs": [],
   "source": []
  },
  {
   "cell_type": "code",
   "execution_count": null,
   "metadata": {},
   "outputs": [],
   "source": []
  },
  {
   "cell_type": "code",
   "execution_count": null,
   "metadata": {},
   "outputs": [],
   "source": []
  },
  {
   "cell_type": "code",
   "execution_count": null,
   "metadata": {},
   "outputs": [],
   "source": [
    "println(\"Brooks, Gelman and Rubin Convergence Diagnostic\")\n",
    "try\n",
    "  gelmandiag(sim, mpsrf=true, transform=true) |> display\n",
    "catch e\n",
    "  #println(e)\n",
    "  gelmandiag(sim, mpsrf=false, transform=true) |> display\n",
    "end"
   ]
  },
  {
   "cell_type": "code",
   "execution_count": null,
   "metadata": {},
   "outputs": [],
   "source": [
    "println(\"Geweke Convergence Diagnostic\")\n",
    "gewekediag(sim) |> display"
   ]
  },
  {
   "cell_type": "code",
   "execution_count": null,
   "metadata": {},
   "outputs": [],
   "source": [
    "println(\"Highest Posterior Density Intervals\")\n",
    "hpd(sim) |> display"
   ]
  },
  {
   "cell_type": "code",
   "execution_count": null,
   "metadata": {},
   "outputs": [],
   "source": [
    "println(\"Cross-Correlations\")\n",
    "cor(sim) |> display"
   ]
  },
  {
   "cell_type": "code",
   "execution_count": null,
   "metadata": {},
   "outputs": [],
   "source": [
    "println(\"Lag-Autocorrelations\")\n",
    "autocor(sim) |> display"
   ]
  },
  {
   "cell_type": "code",
   "execution_count": null,
   "metadata": {},
   "outputs": [],
   "source": [
    "p = plot(sim, [:trace, :mean, :density, :autocor], legend=true);\n",
    "draw(p, ncol=4, filename=\"summaryplot\", fmt=:svg)\n",
    "draw(p, ncol=4, filename=\"summaryplot\", fmt=:pdf)"
   ]
  },
  {
   "cell_type": "code",
   "execution_count": null,
   "metadata": {},
   "outputs": [],
   "source": []
  },
  {
   "cell_type": "code",
   "execution_count": null,
   "metadata": {},
   "outputs": [],
   "source": []
  }
 ],
 "metadata": {
  "kernelspec": {
   "display_name": "Julia 0.6.4",
   "language": "julia",
   "name": "julia-0.6"
  },
  "language_info": {
   "file_extension": ".jl",
   "mimetype": "application/julia",
   "name": "julia",
   "version": "0.6.4"
  }
 },
 "nbformat": 4,
 "nbformat_minor": 2
}
